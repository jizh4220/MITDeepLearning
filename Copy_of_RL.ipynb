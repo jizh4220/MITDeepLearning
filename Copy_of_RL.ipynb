{
  "nbformat": 4,
  "nbformat_minor": 0,
  "metadata": {
    "colab": {
      "name": "Copy of RL.ipynb",
      "provenance": [],
      "collapsed_sections": [
        "jrI6q7RmWQam"
      ],
      "include_colab_link": true
    },
    "kernelspec": {
      "name": "python3",
      "display_name": "Python 3"
    },
    "accelerator": "GPU"
  },
  "cells": [
    {
      "cell_type": "markdown",
      "metadata": {
        "id": "view-in-github",
        "colab_type": "text"
      },
      "source": [
        "<a href=\"https://colab.research.google.com/github/jizh4220/MITDeepLearning/blob/master/Copy_of_RL.ipynb\" target=\"_parent\"><img src=\"https://colab.research.google.com/assets/colab-badge.svg\" alt=\"Open In Colab\"/></a>"
      ]
    },
    {
      "cell_type": "markdown",
      "metadata": {
        "id": "jrI6q7RmWQam",
        "colab_type": "text"
      },
      "source": [
        "<table align=\"center\">\n",
        "  <td align=\"center\"><a target=\"_blank\" href=\"http://introtodeeplearning.com\">\n",
        "        <img src=\"http://introtodeeplearning.com/images/colab/mit.png\" style=\"padding-bottom:5px;\" />\n",
        "      Visit MIT Deep Learning</a></td>\n",
        "  <td align=\"center\"><a target=\"_blank\" href=\"https://colab.research.google.com/github/aamini/introtodeeplearning/blob/master/lab3/RL.ipynb\">\n",
        "        <img src=\"http://introtodeeplearning.com/images/colab/colab.png?v2.0\"  style=\"padding-bottom:5px;\" />Run in Google Colab</a></td>\n",
        "  <td align=\"center\"><a target=\"_blank\" href=\"https://github.com/aamini/introtodeeplearning/blob/master/lab3/RL.ipynb\">\n",
        "        <img src=\"http://introtodeeplearning.com/images/colab/github.png\"  height=\"70px\" style=\"padding-bottom:5px;\"  />View Source on GitHub</a></td>\n",
        "</table>\n",
        "\n",
        "# Copyright Information"
      ]
    },
    {
      "cell_type": "code",
      "metadata": {
        "id": "wkd375upWYok",
        "colab_type": "code",
        "colab": {}
      },
      "source": [
        "# Copyright 2020 MIT 6.S191 Introduction to Deep Learning. All Rights Reserved.\n",
        "# \n",
        "# Licensed under the MIT License. You may not use this file except in compliance\n",
        "# with the License. Use and/or modification of this code outside of 6.S191 must\n",
        "# reference:\n",
        "#\n",
        "# © MIT 6.S191: Introduction to Deep Learning\n",
        "# http://introtodeeplearning.com\n",
        "#"
      ],
      "execution_count": null,
      "outputs": []
    },
    {
      "cell_type": "markdown",
      "metadata": {
        "id": "WoXYKhfZMHiw",
        "colab_type": "text"
      },
      "source": [
        "# Laboratory 3: Reinforcement Learning\n",
        "\n",
        "Reinforcement learning (RL) is a subset of machine learning which poses learning problems as interactions between agents and environments. It often assumes agents have no prior knowledge of a world, so they must learn to navigate environments by optimizing a reward function. Within an environment, an agent can take certain actions and receive feedback, in the form of positive or negative rewards, with respect to their decision. As such, an agent's feedback loop is somewhat akin to the idea of \"trial and error\", or the manner in which a child might learn to distinguish between \"good\" and \"bad\" actions.\n",
        "\n",
        "In practical terms, our RL agent will interact with the environment by taking an action at each timestep, receiving a corresponding reward, and updating its state according to what it has \"learned\".  \n",
        "\n",
        "![alt text](https://www.kdnuggets.com/images/reinforcement-learning-fig1-700.jpg)\n",
        "\n",
        "While the ultimate goal of reinforcement learning is to teach agents to act in the real, physical world, games provide a convenient proving ground for developing RL algorithms and agents. Games have some properties that make them particularly well suited for RL: \n",
        "\n",
        "1.   In many cases, games have perfectly describable environments. For example, all rules of chess can be formally written and programmed into a chess game simulator;\n",
        "2.   Games are massively parallelizable. Since they do not require running in the real world, simultaneous environments can be run on large data clusters; \n",
        "3.   Simpler scenarios in games enable fast prototyping. This speeds up the development of algorithms that could eventually run in the real-world; and\n",
        "4.   ... Games are fun! \n",
        "\n",
        "In previous labs, we have explored both supervised (with LSTMs, CNNs) and unsupervised / semi-supervised (with VAEs) learning tasks. Reinforcement learning is fundamentally different, in that we are training a deep learning algorithm to govern the actions of our RL agent, that is trying, within its environment, to find the optimal way to achieve a goal. The goal of training an RL agent is to determine the best next step to take to earn the greatest final payoff or return. In this lab, we focus on building a reinforcement learning algorithm to master two different environments with varying complexity. \n",
        "\n",
        "1.   **Cartpole**:   Balance a pole, protruding from a cart, in an upright position by only moving the base left or right. Environment with a low-dimensional observation space.\n",
        "2.   [**Pong**](https://en.wikipedia.org/wiki/Pong): Beat your competitors (whether other AI or humans!) at the game of Pong. Environment with a high-dimensional observation space -- learning directly from raw pixels.\n",
        "\n",
        "Let's get started! First we'll import TensorFlow, the course package, and some dependencies.\n"
      ]
    },
    {
      "cell_type": "code",
      "metadata": {
        "id": "EvdePP-VyVWp",
        "colab_type": "code",
        "colab": {
          "base_uri": "https://localhost:8080/",
          "height": 364
        },
        "outputId": "80569809-c52a-4ca4-e8a5-5ff9a93ae3ed"
      },
      "source": [
        "!apt-get install -y xvfb python-opengl x11-utils > /dev/null 2>&1\n",
        "!pip install gym pyvirtualdisplay scikit-video > /dev/null 2>&1\n",
        "\n",
        "%tensorflow_version 2.x\n",
        "import tensorflow as tf\n",
        "\n",
        "import numpy as np\n",
        "import base64, io, time, gym\n",
        "import IPython, functools\n",
        "import matplotlib.pyplot as plt\n",
        "from tqdm import tqdm\n",
        "\n",
        "!pip install mitdeeplearning\n",
        "import mitdeeplearning as mdl"
      ],
      "execution_count": null,
      "outputs": [
        {
          "output_type": "stream",
          "text": [
            "Collecting mitdeeplearning\n",
            "\u001b[?25l  Downloading https://files.pythonhosted.org/packages/8b/3b/b9174b68dc10832356d02a2d83a64b43a24f1762c172754407d22fc8f960/mitdeeplearning-0.1.2.tar.gz (2.1MB)\n",
            "\u001b[K     |████████████████████████████████| 2.1MB 3.5MB/s \n",
            "\u001b[?25hRequirement already satisfied: numpy in /usr/local/lib/python3.6/dist-packages (from mitdeeplearning) (1.18.5)\n",
            "Requirement already satisfied: regex in /usr/local/lib/python3.6/dist-packages (from mitdeeplearning) (2019.12.20)\n",
            "Requirement already satisfied: tqdm in /usr/local/lib/python3.6/dist-packages (from mitdeeplearning) (4.41.1)\n",
            "Requirement already satisfied: gym in /usr/local/lib/python3.6/dist-packages (from mitdeeplearning) (0.17.2)\n",
            "Requirement already satisfied: pyglet<=1.5.0,>=1.4.0 in /usr/local/lib/python3.6/dist-packages (from gym->mitdeeplearning) (1.5.0)\n",
            "Requirement already satisfied: scipy in /usr/local/lib/python3.6/dist-packages (from gym->mitdeeplearning) (1.4.1)\n",
            "Requirement already satisfied: cloudpickle<1.4.0,>=1.2.0 in /usr/local/lib/python3.6/dist-packages (from gym->mitdeeplearning) (1.3.0)\n",
            "Requirement already satisfied: future in /usr/local/lib/python3.6/dist-packages (from pyglet<=1.5.0,>=1.4.0->gym->mitdeeplearning) (0.16.0)\n",
            "Building wheels for collected packages: mitdeeplearning\n",
            "  Building wheel for mitdeeplearning (setup.py) ... \u001b[?25l\u001b[?25hdone\n",
            "  Created wheel for mitdeeplearning: filename=mitdeeplearning-0.1.2-cp36-none-any.whl size=2114586 sha256=2061274b00af1783976ee383201ab060e6f5d77806ee62097031e37392e3036f\n",
            "  Stored in directory: /root/.cache/pip/wheels/27/e1/73/5f01c787621d8a3c857f59876c79e304b9b64db9ff5bd61b74\n",
            "Successfully built mitdeeplearning\n",
            "Installing collected packages: mitdeeplearning\n",
            "Successfully installed mitdeeplearning-0.1.2\n"
          ],
          "name": "stdout"
        }
      ]
    },
    {
      "cell_type": "markdown",
      "metadata": {
        "id": "zmrHSiXKTXTY",
        "colab_type": "text"
      },
      "source": [
        "Before we dive in, let's take a step back and outline our approach, which is generally applicable to reinforcement learning problems in general:\n",
        "\n",
        "1. **Initialize our environment and our agent**: here we will describe the different observations and actions the agent can make in the environment.\n",
        "2. **Define our agent's memory**: this will enable the agent to remember its past actions, observations, and rewards.\n",
        "3. **Define a reward function**: describes the reward associated with an action or sequence of actions.\n",
        "4. **Define the learning algorithm**: this will be used to reinforce the agent's good behaviors and discourage bad behaviors.\n"
      ]
    },
    {
      "cell_type": "markdown",
      "metadata": {
        "id": "UT7YL8KBJIIc",
        "colab_type": "text"
      },
      "source": [
        "# Part 1: Cartpole\n",
        "\n",
        "## 3.1 Define the Cartpole environment and agent\n",
        "\n",
        "### Environment \n",
        "\n",
        "In order to model the environment for both the Cartpole and Pong tasks, we'll be using a toolkit developed by OpenAI called [OpenAI Gym](https://gym.openai.com/). It provides several pre-defined environments for training and testing reinforcement learning agents, including those for classic physics control tasks, Atari video games, and robotic simulations. To access the Cartpole environment, we can use `env = gym.make(\"CartPole-v0\")`, which we gained access to when we imported the `gym` package. We can instantiate different [environments](https://gym.openai.com/envs/#classic_control) by passing the enivronment name to the `make` function.\n",
        "\n",
        "One issue we might experience when developing RL algorithms is that many aspects of the learning process are inherently random: initializing game states, changes in the environment, and the agent's actions. As such, it can be helpful to set a initial \"seed\" for the environment to ensure some level of reproducibility. Much like you might use `numpy.random.seed`, we can call the comparable function in gym, `seed`, with our defined environment to ensure the environment's random variables are initialized the same each time."
      ]
    },
    {
      "cell_type": "code",
      "metadata": {
        "id": "quv9SC0iIYFm",
        "colab_type": "code",
        "colab": {
          "base_uri": "https://localhost:8080/",
          "height": 35
        },
        "outputId": "bbc310eb-ff70-4e7d-932d-f3da77e3735b"
      },
      "source": [
        "### Instantiate the Cartpole environment ###\n",
        "\n",
        "env = gym.make(\"CartPole-v0\")\n",
        "env.seed(1)"
      ],
      "execution_count": null,
      "outputs": [
        {
          "output_type": "execute_result",
          "data": {
            "text/plain": [
              "[1]"
            ]
          },
          "metadata": {
            "tags": []
          },
          "execution_count": 2
        }
      ]
    },
    {
      "cell_type": "markdown",
      "metadata": {
        "id": "mhEITUcKK455",
        "colab_type": "text"
      },
      "source": [
        "In Cartpole, a pole is attached by an un-actuated joint to a cart, which moves along a frictionless track. The pole starts upright, and the goal is to prevent it from falling over. The system is controlled by applying a force of +1 or -1 to the cart. A reward of +1 is provided for every timestep that the pole remains upright. The episode ends when the pole is more than 15 degrees from vertical, or the cart moves more than 2.4 units from the center of the track. A visual summary of the cartpole environment is depicted below:\n",
        "\n",
        "<img width=\"400px\" src=\"https://danielpiedrahita.files.wordpress.com/2017/02/cart-pole.png\"></img>\n",
        "\n",
        "Given this setup for the environment and the objective of the game, we can think about: 1) what observations help define the environment's state; 2) what actions the agent can take. \n",
        "\n",
        "First, let's consider the observation space. In this Cartpole environment our observations are:\n",
        "\n",
        "1. Cart position\n",
        "2. Cart velocity\n",
        "3. Pole angle\n",
        "4. Pole rotation rate\n",
        "\n",
        "We can confirm the size of the space by querying the environment's observation space:\n"
      ]
    },
    {
      "cell_type": "code",
      "metadata": {
        "id": "UVJaEcbdIX82",
        "colab_type": "code",
        "colab": {
          "base_uri": "https://localhost:8080/",
          "height": 35
        },
        "outputId": "ca45ba7c-10e0-48b0-c63a-47acf70264da"
      },
      "source": [
        "n_observations = env.observation_space\n",
        "print(\"Environment has observation space =\", n_observations)"
      ],
      "execution_count": null,
      "outputs": [
        {
          "output_type": "stream",
          "text": [
            "Environment has observation space = Box(4,)\n"
          ],
          "name": "stdout"
        }
      ]
    },
    {
      "cell_type": "markdown",
      "metadata": {
        "id": "ZibGgjrALgPM",
        "colab_type": "text"
      },
      "source": [
        "Second, we consider the action space. At every time step, the agent can move either right or left. Again we can confirm the size of the action space by querying the environment:"
      ]
    },
    {
      "cell_type": "code",
      "metadata": {
        "id": "qc9SIPxBIXrm",
        "colab_type": "code",
        "colab": {
          "base_uri": "https://localhost:8080/",
          "height": 35
        },
        "outputId": "d7031925-fe34-4310-b3db-f777475c1424"
      },
      "source": [
        "n_actions = env.action_space.n\n",
        "print(\"Number of possible actions that the agent can choose from =\", n_actions)"
      ],
      "execution_count": null,
      "outputs": [
        {
          "output_type": "stream",
          "text": [
            "Number of possible actions that the agent can choose from = 2\n"
          ],
          "name": "stdout"
        }
      ]
    },
    {
      "cell_type": "markdown",
      "metadata": {
        "id": "pPfHME8aRKkb",
        "colab_type": "text"
      },
      "source": [
        "### Cartpole agent\n",
        "\n",
        "Now that we have instantiated the environment and understood the dimensionality of the observation and action spaces, we are ready to define our agent. In deep reinforcement learning, a deep neural network defines the agent. This network will take as input an observation of the environment and output the probability of taking each of the possible actions. Since Cartpole is defined by a low-dimensional observation space, a simple feed-forward neural network should work well for our agent. We will define this using the `Sequential` API.\n"
      ]
    },
    {
      "cell_type": "code",
      "metadata": {
        "id": "W-o_XK4oQ4eu",
        "colab_type": "code",
        "colab": {}
      },
      "source": [
        "### Define the Cartpole agent ###\n",
        "\n",
        "# Defines a feed-forward neural network\n",
        "def create_cartpole_model():\n",
        "  model = tf.keras.models.Sequential([\n",
        "      # First Dense layer\n",
        "      tf.keras.layers.Dense(units=32, activation='relu'),\n",
        "\n",
        "      # TODO: Define the last Dense layer, which will provide the network's output.\n",
        "      # Think about the space the agent needs to act in!\n",
        "      \n",
        "\n",
        "      tf.keras.layers.Dense(units=n_actions,activation=None)\n",
        "  ])\n",
        "  return model\n",
        "\n",
        "cartpole_model = create_cartpole_model()"
      ],
      "execution_count": null,
      "outputs": []
    },
    {
      "cell_type": "markdown",
      "metadata": {
        "id": "d5D5NSIYS2IW",
        "colab_type": "text"
      },
      "source": [
        "Now that we have defined the core network architecture, we will define an *action function* that executes a forward pass through the network, given a set of observations, and samples from the output. This sampling from the output probabilities will be used to select the next action for the agent. \n",
        "\n",
        "**Critically, this action function is totally general -- we will use this function for both Cartpole and Pong, and it is applicable to other RL tasks, as well!**"
      ]
    },
    {
      "cell_type": "code",
      "metadata": {
        "id": "E_vVZRr8Q4R_",
        "colab_type": "code",
        "colab": {}
      },
      "source": [
        "### Define the agent's action function ###\n",
        "\n",
        "# Function that takes observations as input, executes a forward pass through model, \n",
        "#   and outputs a sampled action.\n",
        "# Arguments:\n",
        "#   model: the network that defines our agent\n",
        "#   observation: observation which is fed as input to the model\n",
        "# Returns:\n",
        "#   action: choice of agent action\n",
        "def choose_action(model, observation):\n",
        "  # add batch dimension to the observation\n",
        "  observation = np.expand_dims(observation, axis=0)\n",
        "\n",
        "  '''TODO: feed the observations through the model to predict the log probabilities of each possible action.'''\n",
        "  logits = model.predict(observation)\n",
        "  \n",
        "  # pass the log probabilities through a softmax to compute true probabilities\n",
        "  prob_weights = tf.nn.softmax(logits).numpy()\n",
        "  \n",
        "  '''TODO: randomly sample from the prob_weights to pick an action.\n",
        "  Hint: carefully consider the dimensionality of the input probabilities (vector) and the output action (scalar)'''\n",
        "  action = np.random.choice(n_actions, size=1, p=prob_weights.flatten())[0]\n",
        "\n",
        "  return action"
      ],
      "execution_count": null,
      "outputs": []
    },
    {
      "cell_type": "markdown",
      "metadata": {
        "id": "_tR9uAWcTnkr",
        "colab_type": "text"
      },
      "source": [
        "## 3.2 Define the agent's memory\n",
        "\n",
        "Now that we have instantiated the environment and defined the agent network architecture and action function, we are ready to move on to the next step in our RL workflow:\n",
        "1. **Initialize our environment and our agent**: here we will describe the different observations and actions the agent can make in the environment.\n",
        "2. **Define our agent's memory**: this will enable the agent to remember its past actions, observations, and rewards.\n",
        "3. **Define the learning algorithm**: this will be used to reinforce the agent's good behaviors and discourage bad behaviors.\n",
        "\n",
        "In reinforcement learning, training occurs alongside the agent's acting in the environment; an *episode* refers to a sequence of actions that ends in some terminal state, such as the pole falling down or the cart crashing. The agent will need to remember all of its observations and actions, such that once an episode ends, it can learn to \"reinforce\" the good actions and punish the undesirable actions via training. Our first step is to define a simple memory buffer that contains the agent's observations, actions, and received rewards from a given episode. \n",
        "\n",
        "**Once again, note the modularity of this memory buffer -- it can and will be applied to other RL tasks as well!**"
      ]
    },
    {
      "cell_type": "code",
      "metadata": {
        "id": "8MM6JwXVQ4JG",
        "colab_type": "code",
        "colab": {}
      },
      "source": [
        "### Agent Memory ###\n",
        "\n",
        "class Memory:\n",
        "  def __init__(self): \n",
        "      self.clear()\n",
        "\n",
        "  # Resets/restarts the memory buffer\n",
        "  def clear(self): \n",
        "      self.observations = []\n",
        "      self.actions = []\n",
        "      self.rewards = []\n",
        "\n",
        "  # Add observations, actions, rewards to memory\n",
        "  def add_to_memory(self, new_observation, new_action, new_reward): \n",
        "      self.observations.append(new_observation)\n",
        "      self.actions.append(new_action)\n",
        "      self.rewards.append(new_reward)\n",
        "        \n",
        "memory = Memory()"
      ],
      "execution_count": null,
      "outputs": []
    },
    {
      "cell_type": "markdown",
      "metadata": {
        "id": "D4YhtPaUVj5m",
        "colab_type": "text"
      },
      "source": [
        "## 3.3 Reward function\n",
        "\n",
        "We're almost ready to begin the learning algorithm for our agent! The next step is to compute the rewards of our agent as it acts in the environment. Since we (and the agent) is uncertain about if and when the game or task will end (i.e., when the pole will fall), it is useful to emphasize getting rewards **now** rather than later in the future -- this is the idea of discounting. This is a similar concept to discounting money in the case of interest. ecall from lecture, we use reward discount to give more preference at getting rewards now rather than later in the future. The idea of discounting rewards is similar to discounting money in the case of interest.\n",
        "\n",
        "To compute the expected cumulative reward, known as the **return**, at a given timestep in a learning episode, we sum the discounted rewards expected at that time step $t$, within a learning episode, and projecting into the future. We define the return (cumulative reward) at a time step $t$, $R_{t}$ as:\n",
        "\n",
        ">$R_{t}=\\sum_{k=0}^\\infty\\gamma^kr_{t+k}$\n",
        "\n",
        "where  $0 < \\gamma < 1$ is the discount factor and $r_{t}$ is the reward at time step $t$, and the index $k$ increments projection into the future within a single learning episode. Intuitively, you can think of this function as depreciating any rewards received at later time steps, which will force the agent prioritize getting rewards now. Since we can't extend episodes to infinity, in practice the computation will be limited to the number of timesteps in an episode -- after that the reward is assumed to be zero.\n",
        "\n",
        "Take note of the form of this sum -- we'll have to be clever about how we implement this function. Specifically, we'll need to initialize an array of zeros, with length of the number of time steps, and fill it with the real discounted reward values as we loop through the rewards from the episode, which will have been saved in the agents memory. What we ultimately care about is which actions are better relative to other actions taken in that episode -- so, we'll normalize our computed rewards, using the mean and standard deviation of the rewards across the learning episode.\n"
      ]
    },
    {
      "cell_type": "code",
      "metadata": {
        "id": "5_Q2OFYtQ32X",
        "colab_type": "code",
        "colab": {}
      },
      "source": [
        "### Reward function ###\n",
        "\n",
        "# Helper function that normalizes an np.array x\n",
        "def normalize(x):\n",
        "  x -= np.mean(x)\n",
        "  x /= np.std(x)\n",
        "  return x.astype(np.float32)\n",
        "\n",
        "# Compute normalized, discounted, cumulative rewards (i.e., return)\n",
        "# Arguments:\n",
        "#   rewards: reward at timesteps in episode\n",
        "#   gamma: discounting factor\n",
        "# Returns:\n",
        "#   normalized discounted reward\n",
        "def discount_rewards(rewards, gamma=0.95): \n",
        "  discounted_rewards = np.zeros_like(rewards)\n",
        "  R = 0\n",
        "  for t in reversed(range(0, len(rewards))):\n",
        "      # update the total discounted reward\n",
        "      R = R * gamma + rewards[t]\n",
        "      discounted_rewards[t] = R\n",
        "      \n",
        "  return normalize(discounted_rewards)"
      ],
      "execution_count": null,
      "outputs": []
    },
    {
      "cell_type": "markdown",
      "metadata": {
        "id": "QzbY-mjGYcmt",
        "colab_type": "text"
      },
      "source": [
        "## 3.4 Learning algorithm\n",
        "\n",
        "Now we can start to define the learing algorithm which will be used to reinforce good behaviors of the agent and discourage bad behaviours. In this lab, we will focus on *policy gradient* methods which aim to **maximize** the likelihood of actions that result in large rewards. Equivalently, this means that we want to **minimize** the negative likelihood of these same actions. We achieve this by simply **scaling** the probabilities by their associated rewards -- effectively amplifying the likelihood of actions that result in large rewards.\n",
        "\n",
        "Since the log function is monotonically increasing, this means that minimizing **negative likelihood** is equivalent to minimizing **negative log-likelihood**.  Recall that we can easily compute the negative log-likelihood of a discrete action by evaluting its [softmax cross entropy](https://www.tensorflow.org/api_docs/python/tf/nn/sparse_softmax_cross_entropy_with_logits). Like in supervised learning, we can use stochastic gradient descent methods to achieve the desired minimization. \n",
        "\n",
        "Let's begin by defining the loss function."
      ]
    },
    {
      "cell_type": "code",
      "metadata": {
        "id": "fsgZ3IDCY_Zn",
        "colab_type": "code",
        "colab": {}
      },
      "source": [
        "### Loss function ###\n",
        "\n",
        "# Arguments:\n",
        "#   logits: network's predictions for actions to take\n",
        "#   actions: the actions the agent took in an episode\n",
        "#   rewards: the rewards the agent received in an episode\n",
        "# Returns:\n",
        "#   loss\n",
        "def compute_loss(logits, actions, rewards): \n",
        "  '''TODO: complete the function call to compute the negative log probabilities'''\n",
        "  neg_logprob = tf.nn.sparse_softmax_cross_entropy_with_logits(logits=logits, labels=actions)\n",
        "  \n",
        "  '''TODO: scale the negative log probability by the rewards'''\n",
        "  loss = tf.reduce_mean(neg_logprob * rewards)\n",
        "  return loss"
      ],
      "execution_count": null,
      "outputs": []
    },
    {
      "cell_type": "markdown",
      "metadata": {
        "id": "Rr5vQ9fqbPpp",
        "colab_type": "text"
      },
      "source": [
        "Now let's use the loss function to define a training step of our learning algorithm:"
      ]
    },
    {
      "cell_type": "code",
      "metadata": {
        "id": "_50ada7nbZ7L",
        "colab_type": "code",
        "colab": {}
      },
      "source": [
        "### Training step (forward and backpropagation) ###\n",
        "\n",
        "def train_step(model, optimizer, observations, actions, discounted_rewards):\n",
        "  with tf.GradientTape() as tape:\n",
        "      # Forward propagate through the agent network\n",
        "      logits = model(observations)\n",
        "\n",
        "      '''TODO: call the compute_loss function to compute the loss'''\n",
        "      loss = compute_loss(logits, actions, discounted_rewards)\n",
        "\n",
        "  '''TODO: run backpropagation to minimize the loss using the tape.gradient method.\n",
        "      Use `model.trainable_variables`'''\n",
        "  grads = tape.gradient(loss, model.trainable_variables)\n",
        "  optimizer.apply_gradients(zip(grads, model.trainable_variables))\n"
      ],
      "execution_count": null,
      "outputs": []
    },
    {
      "cell_type": "markdown",
      "metadata": {
        "id": "XsjKXh6BcgjR",
        "colab_type": "text"
      },
      "source": [
        "## 3.5 Run cartpole!\n",
        "\n",
        "Having had no prior knowledge of the environment, the agent will begin to learn how to balance the pole on the cart based only on the feedback received from the environment! Having defined how our agent can move, how it takes in new observations, and how it updates its state, we'll see how it gradually learns a policy of actions to optimize balancing the pole as long as possible. To do this, we'll track how the rewards evolve as a function of training -- how should the rewards change as training progresses?"
      ]
    },
    {
      "cell_type": "code",
      "metadata": {
        "id": "XmOzc2rrcn8Q",
        "colab_type": "code",
        "colab": {
          "base_uri": "https://localhost:8080/",
          "height": 541
        },
        "outputId": "56712b9c-8f8a-44ad-edfa-9338a6db326f"
      },
      "source": [
        "### Cartpole training! ###\n",
        "\n",
        "# Learning rate and optimizer\n",
        "learning_rate = 1e-3\n",
        "optimizer = tf.keras.optimizers.Adam(learning_rate)\n",
        "\n",
        "# instantiate cartpole agent\n",
        "cartpole_model = create_cartpole_model()\n",
        "\n",
        "# to track our progress\n",
        "smoothed_reward = mdl.util.LossHistory(smoothing_factor=0.9)\n",
        "plotter = mdl.util.PeriodicPlotter(sec=2, xlabel='Iterations', ylabel='Rewards')\n",
        "\n",
        "if hasattr(tqdm, '_instances'): tqdm._instances.clear() # clear if it exists\n",
        "for i_episode in range(500):\n",
        "\n",
        "  plotter.plot(smoothed_reward.get())\n",
        "\n",
        "  # Restart the environment\n",
        "  observation = env.reset()\n",
        "  memory.clear()\n",
        "\n",
        "  while True:\n",
        "      # using our observation, choose an action and take it in the environment\n",
        "      action = choose_action(cartpole_model, observation)\n",
        "      next_observation, reward, done, info = env.step(action)\n",
        "      # add to memory\n",
        "      memory.add_to_memory(observation, action, reward)\n",
        "      \n",
        "      # is the episode over? did you crash or do so well that you're done?\n",
        "      if done:\n",
        "          # determine total reward and keep a record of this\n",
        "          total_reward = sum(memory.rewards)\n",
        "          smoothed_reward.append(total_reward)\n",
        "          \n",
        "          # initiate training - remember we don't know anything about how the \n",
        "          #   agent is doing until it has crashed!\n",
        "          train_step(cartpole_model, optimizer, \n",
        "                     observations=np.vstack(memory.observations),\n",
        "                     actions=np.array(memory.actions),\n",
        "                     discounted_rewards = discount_rewards(memory.rewards) )\n",
        "          \n",
        "          # reset the memory\n",
        "          memory.clear()\n",
        "          break\n",
        "      # update our observatons\n",
        "      observation = next_observation"
      ],
      "execution_count": null,
      "outputs": [
        {
          "output_type": "display_data",
          "data": {
            "image/png": "[encoded data removed]",
            "text/plain": [
              "<Figure size 432x288 with 1 Axes>"
            ]
          },
          "metadata": {
            "tags": []
          }
        },
        {
          "output_type": "display_data",
          "data": {
            "image/png": "[encoded data removed]",
            "text/plain": [
              "<Figure size 432x288 with 1 Axes>"
            ]
          },
          "metadata": {
            "tags": [],
            "needs_background": "light"
          }
        }
      ]
    },
    {
      "cell_type": "markdown",
      "metadata": {
        "id": "mkcUtGF1VE-K",
        "colab_type": "text"
      },
      "source": [
        "To get a sense of how our agent did, we can save a video of the trained model working on balancing the pole. Realize that this is a brand new environment that the agent has not seen before!\n",
        "\n",
        "Let's display the saved video to watch how our agent did!\n"
      ]
    },
    {
      "cell_type": "code",
      "metadata": {
        "id": "PAYBkv6Zbk0J",
        "colab_type": "code",
        "colab": {
          "base_uri": "https://localhost:8080/",
          "height": 439
        },
        "outputId": "fa3c4f5d-84cf-451f-f9a5-7b8731c5e42f"
      },
      "source": [
        "saved_cartpole = mdl.lab3.save_video_of_model(cartpole_model, \"CartPole-v0\")\n",
        "mdl.lab3.play_video(saved_cartpole)"
      ],
      "execution_count": null,
      "outputs": [
        {
          "output_type": "stream",
          "text": [
            "Successfully saved 200 frames into CartPole-v0.mp4!\n"
          ],
          "name": "stdout"
        },
        {
          "output_type": "execute_result",
          "data": {
            "text/html": [
              "\n",
              "        <video controls>\n",
              "            <source src=\"data:video/mp4;base64,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\" type=\"video/mp4\" />\n",
              "        </video>"
            ],
            "text/plain": [
              "<IPython.core.display.HTML object>"
            ]
          },
          "metadata": {
            "tags": []
          },
          "execution_count": 40
        }
      ]
    },
    {
      "cell_type": "markdown",
      "metadata": {
        "id": "CSbVNDpaVb3_",
        "colab_type": "text"
      },
      "source": [
        "How does the agent perform? Could you train it for shorter amounts of time and still perform well? Do you think that training longer would help even more? "
      ]
    },
    {
      "cell_type": "markdown",
      "metadata": {
        "id": "Eu6Mqxc720ST",
        "colab_type": "text"
      },
      "source": [
        "#Part 2: Pong\n",
        "\n",
        "In Cartpole, we dealt with an environment that was static -- in other words, it didn't change over time. What happens if our environment is dynamic and unpredictable? Well that's exactly the case in [Pong](https://en.wikipedia.org/wiki/Pong), since part of the environment is the opposing player. We don't know how our opponent will act or react to our actions, so the complexity of our problem increases. It also becomes much more interesting, since we can compete to beat our opponent. RL provides a powerful framework for training AI systems with the ability to handle and interact with dynamic, unpredictable environments. In this part of the lab, we'll use the tools and workflow we explored in Part 1 to build an RL agent capable of playing the game of Pong.\n"
      ]
    },
    {
      "cell_type": "markdown",
      "metadata": {
        "id": "srZ4YE29isuA",
        "colab_type": "text"
      },
      "source": [
        "## 3.6 Define and inspect the Pong environment\n",
        "\n",
        "As with Cartpole, we'll instantiate the Pong environment in the OpenAI gym, using a seed of 1."
      ]
    },
    {
      "cell_type": "code",
      "metadata": {
        "id": "lbYHLr66i15n",
        "colab_type": "code",
        "colab": {}
      },
      "source": [
        "env = gym.make(\"Pong-v0\", frameskip=5)\n",
        "env.seed(1); # for reproducibility"
      ],
      "execution_count": null,
      "outputs": []
    },
    {
      "cell_type": "markdown",
      "metadata": {
        "id": "52uZ2Xhyi-MW",
        "colab_type": "text"
      },
      "source": [
        "Let's next consider the observation space for the Pong environment. Instead of four physical descriptors of the cart-pole setup, in the case of Pong our observations are the individual video frames (i.e., images) that depict the state of the board. Thus, the observations are 210x160 RGB images (arrays of shape (210,160,3)).\n",
        "\n",
        "We can again confirm the size of the observation space by query:"
      ]
    },
    {
      "cell_type": "code",
      "metadata": {
        "id": "0yX4GWvxjnHS",
        "colab_type": "code",
        "colab": {
          "base_uri": "https://localhost:8080/",
          "height": 35
        },
        "outputId": "a5362de6-3cb0-4965-b230-fdf67b1a5077"
      },
      "source": [
        "print(\"Environment has observation space =\", env.observation_space)"
      ],
      "execution_count": null,
      "outputs": [
        {
          "output_type": "stream",
          "text": [
            "Environment has observation space = Box(210, 160, 3)\n"
          ],
          "name": "stdout"
        }
      ]
    },
    {
      "cell_type": "markdown",
      "metadata": {
        "id": "uuEC2TdSjx9D",
        "colab_type": "text"
      },
      "source": [
        "In Pong, at every time step, the agent (which controls the paddle) has six actions to choose from: no-op (no operation), move right, move left, fire, fire right, and fire left. Let's confirm the size of the action space by querying the environment:"
      ]
    },
    {
      "cell_type": "code",
      "metadata": {
        "id": "Iuy9oPc1kag3",
        "colab_type": "code",
        "colab": {
          "base_uri": "https://localhost:8080/",
          "height": 35
        },
        "outputId": "25b58b4b-2e20-4e7b-8323-8768148e7588"
      },
      "source": [
        "n_actions = env.action_space.n\n",
        "print(\"Number of possible actions that the agent can choose from =\", n_actions)"
      ],
      "execution_count": null,
      "outputs": [
        {
          "output_type": "stream",
          "text": [
            "Number of possible actions that the agent can choose from = 6\n"
          ],
          "name": "stdout"
        }
      ]
    },
    {
      "cell_type": "markdown",
      "metadata": {
        "id": "9-fghDRigUE5",
        "colab_type": "text"
      },
      "source": [
        "## 3.7 Define the Pong agent\n",
        "\n",
        "As before, we'll use a neural network to define our agent. What network architecture do you think would be especially well suited to this game? Since our observations are now in the form of images, we'll add convolutional layers to the network to increase the learning capacity of our network."
      ]
    },
    {
      "cell_type": "code",
      "metadata": {
        "id": "IJiqbFYpgYRH",
        "colab_type": "code",
        "colab": {}
      },
      "source": [
        "### Define the Pong agent ###\n",
        "\n",
        "# Functionally define layers for convenience\n",
        "# All convolutional layers will have ReLu activation\n",
        "Conv2D = functools.partial(tf.keras.layers.Conv2D, padding='same', activation='relu')\n",
        "Flatten = tf.keras.layers.Flatten\n",
        "Dense = tf.keras.layers.Dense\n",
        "\n",
        "# Defines a CNN for the Pong agent\n",
        "def create_pong_model():\n",
        "  model = tf.keras.models.Sequential([\n",
        "    # Convolutional layers\n",
        "    # First, 16 7x7 filters with 4x4 stride\n",
        "    Conv2D(filters=16, kernel_size=7, strides=4),\n",
        "\n",
        "    # TODO: define convolutional layers with 32 5x5 filters and 2x2 stride\n",
        "    Conv2D(filters=32, kernel_size=5, strides=2),\n",
        "\n",
        "    # TODO: define convolutional layers with 48 3x3 filters and 2x2 stride\n",
        "    Conv2D(filters=48, kernel_size=3, strides=2),\n",
        "\n",
        "    Flatten(),\n",
        "    \n",
        "    # Fully connected layer and output\n",
        "    Dense(units=64, activation='relu'),\n",
        "    # TODO: define the output dimension of the last Dense layer. \n",
        "    # Pay attention to the space the agent needs to act in\n",
        "    Dense(units=n_actions, activation=None)\n",
        "  \n",
        "  ])\n",
        "  return model\n",
        "\n",
        "pong_model = create_pong_model()"
      ],
      "execution_count": null,
      "outputs": []
    },
    {
      "cell_type": "markdown",
      "metadata": {
        "id": "yaeZ067olFiJ",
        "colab_type": "text"
      },
      "source": [
        "Since we've already defined the action function, `choose_action(model, observation)`, we don't need to define it again. Instead, we'll be able to reuse it later on by passing in our new model we've just created, `pong_model`. This is awesome because our action function provides a modular and generalizable method for all sorts of RL agents!"
      ]
    },
    {
      "cell_type": "markdown",
      "metadata": {
        "id": "l0RvqOVkmc2r",
        "colab_type": "text"
      },
      "source": [
        "## 3.8 Pong-specific functions\n",
        "\n",
        "In Part 1 (Cartpole), we implemented some key functions and classes to build and train our RL agent -- `choose_action(model, observation)` and the `Memory` class, for example. However, in getting ready to apply these to a new game like Pong, we might need to make some slight modifications. \n",
        "\n",
        "Namely, we need to think about what happens when a game ends. In Pong, we know a game has ended if the reward is +1 (we won!) or -1 (we lost unfortunately). Otherwise, we expect the reward at a timestep to be zero -- the players (or agents) are just playing eachother. So, after a game ends, we will need to reset the reward to zero when a game ends. This will result in a modified reward function."
      ]
    },
    {
      "cell_type": "code",
      "metadata": {
        "id": "iEZG2o50luLu",
        "colab_type": "code",
        "colab": {}
      },
      "source": [
        "### Pong reward function ###\n",
        "\n",
        "# Compute normalized, discounted rewards for Pong (i.e., return)\n",
        "# Arguments:\n",
        "#   rewards: reward at timesteps in episode\n",
        "#   gamma: discounting factor. Note increase to 0.99 -- rate of depreciation will be slower.\n",
        "# Returns:\n",
        "#   normalized discounted reward\n",
        "def discount_rewards(rewards, gamma=0.99): \n",
        "  discounted_rewards = np.zeros_like(rewards)\n",
        "  R = 0\n",
        "  for t in reversed(range(0, len(rewards))):\n",
        "      # NEW: Reset the sum if the reward is not 0 (the game has ended!)\n",
        "      if rewards[t] != 0:\n",
        "        R = 0\n",
        "      # update the total discounted reward as before\n",
        "      R = R * gamma + rewards[t]\n",
        "      discounted_rewards[t] = R\n",
        "      \n",
        "  return normalize(discounted_rewards)"
      ],
      "execution_count": null,
      "outputs": []
    },
    {
      "cell_type": "markdown",
      "metadata": {
        "id": "HopLpb4IoOqA",
        "colab_type": "text"
      },
      "source": [
        "Additionally, we have to consider the nature of the observations in the Pong environment, and how they will be fed into our network. Our observations in this case are images. Before we input an image into our network, we'll do a bit of pre-processing to crop and scale, clean up the background colors to a single color, and set the important game elements to a single color. Let's use this function to visualize what an observation might look like before and after pre-processing."
      ]
    },
    {
      "cell_type": "code",
      "metadata": {
        "id": "no5IIYtFm8pI",
        "colab_type": "code",
        "colab": {
          "base_uri": "https://localhost:8080/",
          "height": 227
        },
        "outputId": "775eaa07-0536-47d0-bc75-57c82e00ef58"
      },
      "source": [
        "observation = env.reset()\n",
        "for i in range(30):\n",
        "  observation, _,_,_ = env.step(0)\n",
        "observation_pp = mdl.lab3.preprocess_pong(observation)\n",
        "\n",
        "f = plt.figure(figsize=(10,3))\n",
        "ax = f.add_subplot(121)\n",
        "ax2 = f.add_subplot(122)\n",
        "ax.imshow(observation); ax.grid(False);\n",
        "ax2.imshow(np.squeeze(observation_pp)); ax2.grid(False); plt.title('Preprocessed Observation');"
      ],
      "execution_count": null,
      "outputs": [
        {
          "output_type": "display_data",
          "data": {
            "image/png": "[encoded data removed]",
            "text/plain": [
              "<Figure size 720x216 with 2 Axes>"
            ]
          },
          "metadata": {
            "tags": [],
            "needs_background": "light"
          }
        }
      ]
    },
    {
      "cell_type": "markdown",
      "metadata": {
        "id": "bYwIWC-Cz8F2",
        "colab_type": "text"
      },
      "source": [
        "What do you notice? How might these changes be important for training our RL algorithm?"
      ]
    },
    {
      "cell_type": "markdown",
      "metadata": {
        "id": "mRqcaDQ1pm3x",
        "colab_type": "text"
      },
      "source": [
        "## 3.9 Training Pong\n",
        "\n",
        "We're now all set up to start training our RL algorithm and agent for the game of Pong! We've already defined our loss function with `compute_loss`, which employs policy gradient learning, as well as our backpropagation step with `train_step` which is beautiful! We will use these functions to execute training the Pong agent. Let's walk through the training block.\n",
        "\n",
        "In Pong, rather than feeding our network one image at a time, it can actually improve performance to input the difference between two consecutive observations, which really gives us information about the movement between frames -- how the game is changing. We'll first pre-process the raw observation, `x`, and then we'll compute the difference with the image frame we saw one timestep before. \n",
        "\n",
        "This observation change will be forward propagated through our Pong agent, the CNN network model, which will then predict the next action to take based on this observation. The raw reward will be computed, and the observation, action, and reward will be recorded into memory. This will continue until a training episode, i.e., a game, ends.\n",
        "\n",
        "Then, we will compute the discounted rewards, and use this information to execute a training step. Memory will be cleared, and we will do it all over again!\n",
        "\n",
        "Let's run the code block to train our Pong agent. Note that completing training will take quite a bit of time (estimated at least a couple of hours). We will again visualize the evolution of the total reward as a function of training to get a sense of how the agent is learning."
      ]
    },
    {
      "cell_type": "code",
      "metadata": {
        "id": "xCwyQQrPnkZG",
        "colab_type": "code",
        "colab": {
          "base_uri": "https://localhost:8080/",
          "height": 279
        },
        "outputId": "e25d12a5-a25e-4b22-ae41-43650c15f155"
      },
      "source": [
        "### Training Pong ###\n",
        "\n",
        "# Hyperparameters\n",
        "learning_rate=1e-4\n",
        "MAX_ITERS = 10000 # increase the maximum number of episodes, since Pong is more complex!\n",
        "\n",
        "# Model and optimizer\n",
        "pong_model = create_pong_model()\n",
        "optimizer = tf.keras.optimizers.Adam(learning_rate)\n",
        "\n",
        "# plotting\n",
        "smoothed_reward = mdl.util.LossHistory(smoothing_factor=0.9)\n",
        "plotter = mdl.util.PeriodicPlotter(sec=5, xlabel='Iterations', ylabel='Rewards')\n",
        "memory = Memory()\n",
        "\n",
        "for i_episode in range(MAX_ITERS):\n",
        "\n",
        "  plotter.plot(smoothed_reward.get())\n",
        "\n",
        "  # Restart the environment\n",
        "  observation = env.reset()\n",
        "  previous_frame = mdl.lab3.preprocess_pong(observation)\n",
        "\n",
        "  while True:\n",
        "      # Pre-process image \n",
        "      current_frame = mdl.lab3.preprocess_pong(observation)\n",
        "      \n",
        "      '''TODO: determine the observation change\n",
        "      Hint: this is the difference between the past two frames'''\n",
        "      obs_change = current_frame - previous_frame\n",
        "      \n",
        "      '''TODO: choose an action for the pong model, using the frame difference, and evaluate'''\n",
        "      action = choose_action(pong_model, obs_change) # TODO\n",
        "      # Take the chosen action\n",
        "      next_observation, reward, done, info = env.step(action)\n",
        "\n",
        "      '''TODO: save the observed frame difference, the action that was taken, and the resulting reward!'''\n",
        "      memory.add_to_memory(obs_change, action, reward)\n",
        "      \n",
        "      # is the episode over? did you crash or do so well that you're done?\n",
        "      if done:\n",
        "          # determine total reward and keep a record of this\n",
        "          total_reward = sum(memory.rewards)\n",
        "          smoothed_reward.append( total_reward )\n",
        "\n",
        "          # begin training\n",
        "          train_step(pong_model, \n",
        "                     optimizer, \n",
        "                     observations = np.stack(memory.observations, 0), \n",
        "                     actions = np.array(memory.actions),\n",
        "                     discounted_rewards = discount_rewards(memory.rewards))\n",
        "          \n",
        "          memory.clear()\n",
        "          break\n",
        "\n",
        "      observation = next_observation\n",
        "      previous_frame = current_frame"
      ],
      "execution_count": null,
      "outputs": [
        {
          "output_type": "display_data",
          "data": {
            "image/png": "[encoded data removed]",
            "text/plain": [
              "<Figure size 432x288 with 1 Axes>"
            ]
          },
          "metadata": {
            "tags": []
          }
        }
      ]
    },
    {
      "cell_type": "markdown",
      "metadata": {
        "id": "8LiEY5Y_ts-Z",
        "colab_type": "text"
      },
      "source": [
        "Finally we can put our trained agent to the test! It will play in a newly instantiated Pong environment against the \"computer\", a base AI system for Pong. Your agent plays as the green paddle. Let's watch the match instant replay!"
      ]
    },
    {
      "cell_type": "code",
      "metadata": {
        "id": "TvHXbkL0tR6M",
        "colab_type": "code",
        "colab": {
          "base_uri": "https://localhost:8080/",
          "height": 225
        },
        "outputId": "a319a911-e822-46d4-c9df-3eec889b62ff"
      },
      "source": [
        "saved_pong = mdl.lab3.save_video_of_model(\n",
        "    pong_model, \"Pong-v0\", obs_diff=True, \n",
        "    pp_fn=mdl.lab3.preprocess_pong)\n",
        "mdl.lab3.play_video(saved_pong)"
      ],
      "execution_count": null,
      "outputs": [
        {
          "output_type": "error",
          "ename": "NameError",
          "evalue": "ignored",
          "traceback": [
            "\u001b[0;31m---------------------------------------------------------------------------\u001b[0m",
            "\u001b[0;31mNameError\u001b[0m                                 Traceback (most recent call last)",
            "\u001b[0;32m<ipython-input-1-00442644751a>\u001b[0m in \u001b[0;36m<module>\u001b[0;34m()\u001b[0m\n\u001b[0;32m----> 1\u001b[0;31m saved_pong = mdl.lab3.save_video_of_model(\n\u001b[0m\u001b[1;32m      2\u001b[0m     \u001b[0mpong_model\u001b[0m\u001b[0;34m,\u001b[0m \u001b[0;34m\"Pong-v0\"\u001b[0m\u001b[0;34m,\u001b[0m \u001b[0mobs_diff\u001b[0m\u001b[0;34m=\u001b[0m\u001b[0;32mTrue\u001b[0m\u001b[0;34m,\u001b[0m\u001b[0;34m\u001b[0m\u001b[0;34m\u001b[0m\u001b[0m\n\u001b[1;32m      3\u001b[0m     pp_fn=mdl.lab3.preprocess_pong)\n\u001b[1;32m      4\u001b[0m \u001b[0mmdl\u001b[0m\u001b[0;34m.\u001b[0m\u001b[0mlab3\u001b[0m\u001b[0;34m.\u001b[0m\u001b[0mplay_video\u001b[0m\u001b[0;34m(\u001b[0m\u001b[0msaved_pong\u001b[0m\u001b[0;34m)\u001b[0m\u001b[0;34m\u001b[0m\u001b[0;34m\u001b[0m\u001b[0m\n",
            "\u001b[0;31mNameError\u001b[0m: name 'mdl' is not defined"
          ]
        }
      ]
    },
    {
      "cell_type": "markdown",
      "metadata": {
        "id": "TIlwIgBP3Js6",
        "colab_type": "text"
      },
      "source": [
        "## 3.10 Conclusion\n",
        "\n",
        "That's it! Congratulations on training two RL agents and putting them to the test! We encourage you to consider the following:\n",
        "\n",
        "*   How does the agent perform?\n",
        "*   Could you train it for shorter amounts of time  and still perform well?\n",
        "*   Do you think that training longer would help even more? \n",
        "* How does the complexity of Pong relative to Cartpole alter the rate at which the agent learns and its performance? \n",
        "* What are some things you could change about the agent or the learning process to potentially improve performance?\n",
        "\n",
        "If you want to go further, try to optimize your model to achieve the best performance! **[Email us](mailto:introtodeeplearning-staff@mit.edu) a copy of your notebook with the Pong training executed AND a saved video of your Pong agent competing! We'll give out prizes to the best performers!**"
      ]
    }
  ]
}